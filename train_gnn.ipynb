{
  "nbformat": 4,
  "nbformat_minor": 0,
  "metadata": {
    "colab": {
      "provenance": [],
      "gpuType": "T4"
    },
    "kernelspec": {
      "name": "python3",
      "display_name": "Python 3"
    },
    "language_info": {
      "name": "python"
    },
    "accelerator": "GPU"
  },
  "cells": [
    {
      "cell_type": "code",
      "execution_count": 2,
      "metadata": {
        "colab": {
          "base_uri": "https://localhost:8080/"
        },
        "id": "Ef-oAHXc9lPD",
        "outputId": "13b6e19c-f8b8-47f6-d4f6-2b75da6bba6c"
      },
      "outputs": [
        {
          "output_type": "stream",
          "name": "stdout",
          "text": [
            "Mounted at /content/drive\n"
          ]
        }
      ],
      "source": [
        "from google.colab import drive\n",
        "drive.mount('/content/drive')"
      ]
    },
    {
      "cell_type": "code",
      "source": [
        "import torch\n",
        "import torch.nn as nn\n",
        "import torch.nn.functional as F\n",
        "!pip install torch-geometric\n",
        "from sklearn.model_selection import train_test_split\n",
        "from sklearn.preprocessing import StandardScaler\n",
        "from torch_geometric.data import Data, DataLoader\n",
        "from torch_geometric.nn import GCNConv\n",
        "from sklearn.neighbors import KNeighborsClassifier\n",
        "import numpy as np\n",
        "import pandas as pd"
      ],
      "metadata": {
        "colab": {
          "base_uri": "https://localhost:8080/"
        },
        "id": "gi4fDi1W-eIO",
        "outputId": "d833369b-7e98-4d21-f279-23347a5bb5b5"
      },
      "execution_count": 3,
      "outputs": [
        {
          "output_type": "stream",
          "name": "stdout",
          "text": [
            "Collecting torch-geometric\n",
            "  Downloading torch_geometric-2.5.3-py3-none-any.whl (1.1 MB)\n",
            "\u001b[2K     \u001b[90m━━━━━━━━━━━━━━━━━━━━━━━━━━━━━━━━━━━━━━━━\u001b[0m \u001b[32m1.1/1.1 MB\u001b[0m \u001b[31m13.2 MB/s\u001b[0m eta \u001b[36m0:00:00\u001b[0m\n",
            "\u001b[?25hRequirement already satisfied: tqdm in /usr/local/lib/python3.10/dist-packages (from torch-geometric) (4.66.2)\n",
            "Requirement already satisfied: numpy in /usr/local/lib/python3.10/dist-packages (from torch-geometric) (1.25.2)\n",
            "Requirement already satisfied: scipy in /usr/local/lib/python3.10/dist-packages (from torch-geometric) (1.11.4)\n",
            "Requirement already satisfied: fsspec in /usr/local/lib/python3.10/dist-packages (from torch-geometric) (2023.6.0)\n",
            "Requirement already satisfied: jinja2 in /usr/local/lib/python3.10/dist-packages (from torch-geometric) (3.1.3)\n",
            "Requirement already satisfied: aiohttp in /usr/local/lib/python3.10/dist-packages (from torch-geometric) (3.9.5)\n",
            "Requirement already satisfied: requests in /usr/local/lib/python3.10/dist-packages (from torch-geometric) (2.31.0)\n",
            "Requirement already satisfied: pyparsing in /usr/local/lib/python3.10/dist-packages (from torch-geometric) (3.1.2)\n",
            "Requirement already satisfied: scikit-learn in /usr/local/lib/python3.10/dist-packages (from torch-geometric) (1.2.2)\n",
            "Requirement already satisfied: psutil>=5.8.0 in /usr/local/lib/python3.10/dist-packages (from torch-geometric) (5.9.5)\n",
            "Requirement already satisfied: aiosignal>=1.1.2 in /usr/local/lib/python3.10/dist-packages (from aiohttp->torch-geometric) (1.3.1)\n",
            "Requirement already satisfied: attrs>=17.3.0 in /usr/local/lib/python3.10/dist-packages (from aiohttp->torch-geometric) (23.2.0)\n",
            "Requirement already satisfied: frozenlist>=1.1.1 in /usr/local/lib/python3.10/dist-packages (from aiohttp->torch-geometric) (1.4.1)\n",
            "Requirement already satisfied: multidict<7.0,>=4.5 in /usr/local/lib/python3.10/dist-packages (from aiohttp->torch-geometric) (6.0.5)\n",
            "Requirement already satisfied: yarl<2.0,>=1.0 in /usr/local/lib/python3.10/dist-packages (from aiohttp->torch-geometric) (1.9.4)\n",
            "Requirement already satisfied: async-timeout<5.0,>=4.0 in /usr/local/lib/python3.10/dist-packages (from aiohttp->torch-geometric) (4.0.3)\n",
            "Requirement already satisfied: MarkupSafe>=2.0 in /usr/local/lib/python3.10/dist-packages (from jinja2->torch-geometric) (2.1.5)\n",
            "Requirement already satisfied: charset-normalizer<4,>=2 in /usr/local/lib/python3.10/dist-packages (from requests->torch-geometric) (3.3.2)\n",
            "Requirement already satisfied: idna<4,>=2.5 in /usr/local/lib/python3.10/dist-packages (from requests->torch-geometric) (3.7)\n",
            "Requirement already satisfied: urllib3<3,>=1.21.1 in /usr/local/lib/python3.10/dist-packages (from requests->torch-geometric) (2.0.7)\n",
            "Requirement already satisfied: certifi>=2017.4.17 in /usr/local/lib/python3.10/dist-packages (from requests->torch-geometric) (2024.2.2)\n",
            "Requirement already satisfied: joblib>=1.1.1 in /usr/local/lib/python3.10/dist-packages (from scikit-learn->torch-geometric) (1.4.0)\n",
            "Requirement already satisfied: threadpoolctl>=2.0.0 in /usr/local/lib/python3.10/dist-packages (from scikit-learn->torch-geometric) (3.4.0)\n",
            "Installing collected packages: torch-geometric\n",
            "Successfully installed torch-geometric-2.5.3\n"
          ]
        }
      ]
    },
    {
      "cell_type": "code",
      "source": [
        "def get_data():\n",
        "    data_file = \"/content/drive/My Drive/data.csv\"\n",
        "    data = pd.read_csv(data_file)\n",
        "    return data\n",
        "\n",
        "def get_XY(data, weights=None):\n",
        "    features = ['valence', 'key', 'tempo', 'acousticness', 'danceability', 'energy', 'explicit', 'instrumentalness', 'liveness', 'speechiness', 'loudness', 'year']\n",
        "    X = data[features].values\n",
        "    Y = data['id'].values if 'id' in data.columns else None\n",
        "\n",
        "    # Scale the features\n",
        "    scaler = StandardScaler()\n",
        "    X = scaler.fit_transform(X)\n",
        "\n",
        "    # Apply weights\n",
        "    if weights is not None:\n",
        "        for i, weight in enumerate(weights):\n",
        "            X[:, i] *= weight\n",
        "\n",
        "    return X, Y\n"
      ],
      "metadata": {
        "id": "UPNHNTxQ-Iz_"
      },
      "execution_count": 4,
      "outputs": []
    },
    {
      "cell_type": "code",
      "source": [
        "class Net(nn.Module):\n",
        "    def __init__(self):\n",
        "        super(Net, self).__init__()\n",
        "        self.conv1 = GCNConv(12, 64)\n",
        "        self.conv2 = GCNConv(64, 64)\n",
        "        self.fc1 = nn.Linear(64, 32)\n",
        "        self.fc2 = nn.Linear(32, 1)\n",
        "\n",
        "    def forward(self, data):\n",
        "        x, edge_index = data.x, data.edge_index\n",
        "\n",
        "        x = self.conv1(x, edge_index)\n",
        "        x = F.relu(x)\n",
        "        x = self.conv2(x, edge_index)\n",
        "        x = F.relu(x)\n",
        "\n",
        "        x = torch.mean(x, dim=0).unsqueeze(0)\n",
        "        x = F.relu(self.fc1(x))\n",
        "        x = self.fc2(x)\n",
        "        return torch.sigmoid(x)"
      ],
      "metadata": {
        "id": "P2-ttZxy_DeL"
      },
      "execution_count": 5,
      "outputs": []
    },
    {
      "cell_type": "code",
      "source": [
        "def train_gnn(data, weights, epochs=100):\n",
        "    model = Net()\n",
        "    device = torch.device('cuda' if torch.cuda.is_available() else 'cpu')\n",
        "    X, Y = get_XY(data, weights)\n",
        "\n",
        "    optimizer = torch.optim.Adam(model.parameters(), lr=0.01)\n",
        "    criterion = nn.BCELoss()\n",
        "\n",
        "    edge_index = torch.tensor([[i, i] for i in range(X.shape[0])], dtype=torch.long).t().contiguous()\n",
        "    edge_index = edge_index.to(device)\n",
        "\n",
        "    x = torch.tensor(X, dtype=torch.float).to(device)\n",
        "    y = torch.tensor([[1]], dtype=torch.float).to(device)\n",
        "    loader = DataLoader([Data(x=x, edge_index=edge_index, y=y)], batch_size=1)\n",
        "\n",
        "    model.to(device)\n",
        "\n",
        "    for epoch in range(epochs):\n",
        "        model.train()\n",
        "        optimizer.zero_grad()\n",
        "\n",
        "        out = model(loader.dataset[0].to(device))\n",
        "        loss = criterion(out, loader.dataset[0].y)\n",
        "        loss.backward()\n",
        "        optimizer.step()\n",
        "\n",
        "        if epoch % 10 == 0:\n",
        "            print(f'Epoch: {epoch}, Loss: {loss.item()}')\n",
        "\n",
        "    torch.save(model.state_dict(), 'gnn_model.pth')\n"
      ],
      "metadata": {
        "id": "Mi_QHeqK_ERn"
      },
      "execution_count": 18,
      "outputs": []
    },
    {
      "cell_type": "code",
      "source": [
        "def predict_with_gnn(embedding, weights, data, n_neighbors=7):\n",
        "    model = Net()\n",
        "    model.load_state_dict(torch.load('gnn_model.pth', map_location=torch.device('cpu')))\n",
        "    device = torch.device('cuda' if torch.cuda.is_available() else 'cpu')\n",
        "    model.to(device)\n",
        "    model.eval()\n",
        "\n",
        "    X, Y = get_XY(data, weights)\n",
        "    x = torch.tensor(X, dtype=torch.float)\n",
        "    edge_index = torch.tensor([[i, i] for i in range(X.shape[0])], dtype=torch.long).t().contiguous()\n",
        "    edge_index = edge_index.to(device)\n",
        "    x = x.to(device)\n",
        "    loader = DataLoader([Data(x=x, edge_index=edge_index)])\n",
        "\n",
        "    with torch.no_grad():\n",
        "        prediction = model(loader.dataset[0].to(device))\n",
        "\n",
        "    prediction = prediction.cpu().numpy()\n",
        "    idx = np.argsort(prediction, axis=0)[-n_neighbors:][::-1].reshape(-1)\n",
        "    predictions = []\n",
        "    for index in idx:\n",
        "        predictions.append([data.loc[index, 'artists'], data.loc[index, 'name'], data.loc[index, 'release_date']])\n",
        "    return predictions\n",
        "\n"
      ],
      "metadata": {
        "id": "aE5gmWVA_HMw"
      },
      "execution_count": 29,
      "outputs": []
    },
    {
      "cell_type": "code",
      "source": [
        "def convert_embedding(embedding):\n",
        "    column_order = ['valence', 'key', 'tempo', 'acousticness', 'danceability', 'energy', 'explicit', 'instrumentalness', 'liveness', 'speechiness', 'loudness', 'year']\n",
        "    df = pd.DataFrame.from_dict(embedding, orient='index').T\n",
        "    df = df[column_order]\n",
        "    return df"
      ],
      "metadata": {
        "id": "DmTx7MEK_YoT"
      },
      "execution_count": 8,
      "outputs": []
    },
    {
      "cell_type": "code",
      "source": [
        "weights = [1, 1, 1, 1, 1, 1, 1, 1, 1, 1, 1, 1]\n",
        "data = get_data()\n",
        "train_gnn(data, weights)"
      ],
      "metadata": {
        "colab": {
          "base_uri": "https://localhost:8080/"
        },
        "id": "wV5cEGJa_J-C",
        "outputId": "37eb594d-38d6-44c4-e19b-ebce74971a58"
      },
      "execution_count": 19,
      "outputs": [
        {
          "output_type": "stream",
          "name": "stderr",
          "text": [
            "/usr/local/lib/python3.10/dist-packages/torch_geometric/deprecation.py:26: UserWarning: 'data.DataLoader' is deprecated, use 'loader.DataLoader' instead\n",
            "  warnings.warn(out)\n"
          ]
        },
        {
          "output_type": "stream",
          "name": "stdout",
          "text": [
            "Epoch: 0, Loss: 0.7483801245689392\n",
            "Epoch: 10, Loss: 1.6927862816373818e-05\n",
            "Epoch: 20, Loss: 0.0\n",
            "Epoch: 30, Loss: 0.0\n",
            "Epoch: 40, Loss: 0.0\n",
            "Epoch: 50, Loss: 0.0\n",
            "Epoch: 60, Loss: 0.0\n",
            "Epoch: 70, Loss: 0.0\n",
            "Epoch: 80, Loss: 0.0\n",
            "Epoch: 90, Loss: 0.0\n"
          ]
        }
      ]
    },
    {
      "cell_type": "code",
      "source": [
        "embedding = {\n",
        "    \"valence\": 0.9,\n",
        "    \"key\": 7,\n",
        "    \"tempo\": 120.0,\n",
        "    \"acousticness\": 0.2,\n",
        "    \"danceability\": 0.8,\n",
        "    \"energy\": 0.7,\n",
        "    \"explicit\": 0,\n",
        "    \"instrumentalness\": 0.1,\n",
        "    \"liveness\": 0.5,\n",
        "    \"speechiness\": 0.2,\n",
        "    \"loudness\": -10.0,\n",
        "    \"year\": 2020\n",
        "}\n",
        "predictions = predict_with_gnn(embedding, weights, data, n_neighbors=7)\n",
        "print(predictions)"
      ],
      "metadata": {
        "colab": {
          "base_uri": "https://localhost:8080/"
        },
        "id": "pbG7HjY_CBAn",
        "outputId": "85fcef35-50e4-46c0-bf0a-a9db455ca0d7"
      },
      "execution_count": 30,
      "outputs": [
        {
          "output_type": "stream",
          "name": "stdout",
          "text": [
            "[[\"['Sergei Rachmaninoff', 'James Levine', 'Berliner Philharmoniker']\", 'Piano Concerto No. 3 in D Minor, Op. 30: III. Finale. Alla breve', '1921']]\n"
          ]
        },
        {
          "output_type": "stream",
          "name": "stderr",
          "text": [
            "/usr/local/lib/python3.10/dist-packages/torch_geometric/deprecation.py:26: UserWarning: 'data.DataLoader' is deprecated, use 'loader.DataLoader' instead\n",
            "  warnings.warn(out)\n"
          ]
        }
      ]
    }
  ]
}