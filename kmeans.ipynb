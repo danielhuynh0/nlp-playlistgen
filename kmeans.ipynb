{
 "cells": [
  {
   "cell_type": "code",
   "execution_count": 1,
   "metadata": {},
   "outputs": [],
   "source": [
    "import pandas as pd\n",
    "import numpy as np\n",
    "import matplotlib.pyplot as plt\n",
    "from sklearn.cluster import KMeans"
   ]
  },
  {
   "cell_type": "code",
   "execution_count": 30,
   "metadata": {},
   "outputs": [
    {
     "name": "stdout",
     "output_type": "stream",
     "text": [
      "   valence  year  acousticness  \\\n",
      "0   0.0594  1921         0.982   \n",
      "1   0.9630  1921         0.732   \n",
      "2   0.0394  1921         0.961   \n",
      "3   0.1650  1921         0.967   \n",
      "4   0.2530  1921         0.957   \n",
      "\n",
      "                                             artists  danceability  \\\n",
      "0  ['Sergei Rachmaninoff', 'James Levine', 'Berli...         0.279   \n",
      "1                                     ['Dennis Day']         0.819   \n",
      "2  ['KHP Kridhamardawa Karaton Ngayogyakarta Hadi...         0.328   \n",
      "3                                   ['Frank Parker']         0.275   \n",
      "4                                     ['Phil Regan']         0.418   \n",
      "\n",
      "   duration_ms  energy  explicit                      id  instrumentalness  \\\n",
      "0       831667   0.211         0  4BJqT0PrAfrxzMOxytFOIz          0.878000   \n",
      "1       180533   0.341         0  7xPhfUan2yNtyFG0cUWkt8          0.000000   \n",
      "2       500062   0.166         0  1o6I8BglA6ylDMrIELygv1          0.913000   \n",
      "3       210000   0.309         0  3ftBPsC5vPBKxYSee08FDH          0.000028   \n",
      "4       166693   0.193         0  4d6HGyGT8e121BsdKmw9v6          0.000002   \n",
      "\n",
      "   key  liveness  loudness  mode  \\\n",
      "0   10     0.665   -20.096     1   \n",
      "1    7     0.160   -12.441     1   \n",
      "2    3     0.101   -14.850     1   \n",
      "3    5     0.381    -9.316     1   \n",
      "4    3     0.229   -10.096     1   \n",
      "\n",
      "                                                name  popularity release_date  \\\n",
      "0  Piano Concerto No. 3 in D Minor, Op. 30: III. ...           4         1921   \n",
      "1                            Clancy Lowered the Boom           5         1921   \n",
      "2                                          Gati Bali           5         1921   \n",
      "3                                          Danny Boy           3         1921   \n",
      "4                        When Irish Eyes Are Smiling           2         1921   \n",
      "\n",
      "   speechiness    tempo  \n",
      "0       0.0366   80.954  \n",
      "1       0.4150   60.936  \n",
      "2       0.0339  110.339  \n",
      "3       0.0354  100.109  \n",
      "4       0.0380  101.665  \n"
     ]
    }
   ],
   "source": [
    "data_file = \"data/data.csv\"\n",
    "\n",
    "data = pd.read_csv(data_file)\n",
    "\n",
    "print(data.head())"
   ]
  },
  {
   "cell_type": "code",
   "execution_count": 48,
   "metadata": {},
   "outputs": [],
   "source": [
    "#domain_headers = [\"valence\", \"year\", \"acousticness\", \"artists\", \"danceability\", \"duration_ms\", \"energy\", \"explicit\", \"instrumentalness\", \"key\", \"liveness\", \"loudness\", \"mode\", \"popularity\", \"speechiness\", \"tempo\", \"name\", \"release_date\"]\n",
    "domain_headers = [\"valence\", \"year\", \"acousticness\", \"danceability\", \"duration_ms\", \"energy\", \"explicit\", \"instrumentalness\", \"key\", \"liveness\", \"loudness\", \"mode\", \"popularity\", \"speechiness\", \"tempo\"]\n",
    "range_headers = [\"id\"]\n",
    "X = data[domain_headers]\n",
    "Y = data[range_headers]"
   ]
  },
  {
   "cell_type": "code",
   "execution_count": 49,
   "metadata": {},
   "outputs": [],
   "source": [
    "from sklearn.neighbors import KNeighborsClassifier \n",
    "from sklearn.model_selection import train_test_split "
   ]
  },
  {
   "cell_type": "code",
   "execution_count": 50,
   "metadata": {},
   "outputs": [],
   "source": [
    "X_train, X_test, Y_train, Y_test = train_test_split(X, Y, test_size = 0.2, random_state=42) \n",
    "  \n",
    "knn = KNeighborsClassifier(n_neighbors=7) "
   ]
  },
  {
   "cell_type": "code",
   "execution_count": 52,
   "metadata": {},
   "outputs": [
    {
     "name": "stderr",
     "output_type": "stream",
     "text": [
      "c:\\Users\\lieri\\AppData\\Local\\Programs\\Python\\Python311\\Lib\\site-packages\\sklearn\\neighbors\\_classification.py:238: DataConversionWarning: A column-vector y was passed when a 1d array was expected. Please change the shape of y to (n_samples,), for example using ravel().\n",
      "  return self._fit(X, y)\n"
     ]
    }
   ],
   "source": [
    "knn.fit(X_train, Y_train) \n",
    "\n",
    "recommendations = knn.predict(X_test)"
   ]
  },
  {
   "cell_type": "code",
   "execution_count": 64,
   "metadata": {},
   "outputs": [
    {
     "name": "stdout",
     "output_type": "stream",
     "text": [
      "[\"['Bryan Adams']\", 'One Night Love Affair', '11/5/1984']\n",
      "[\"['The Oak Ridge Boys']\", 'Leaving Louisiana In The Broad Daylight', '1/1/1980']\n",
      "[\"['The Offspring']\", \"The Kids Aren't Alright\", '6/21/2005']\n",
      "[\"['Duke Ellington']\", 'Mood Indigo', '1951']\n",
      "[\"['Dean Martin']\", 'Siesta Fiesta', '1964']\n",
      "[\"['Missy Elliott']\", 'Pussycat', '11/11/2002']\n",
      "[\"['Hit Rock Entertainment']\", 'Intro', '10/17/2009']\n",
      "[\"['Paul Weston']\", 'You Go To My Head', '1958']\n",
      "[\"['Johnny Cash']\", 'Send a Picture of Mother - Live at Folsom State Prison, Folsom, CA - January 1968', '5/1/1968']\n",
      "[\"['Antonio Aguilar']\", 'Dos Seres Que Se Aman', '1/1/1986']\n"
     ]
    }
   ],
   "source": [
    "def getRow(id):\n",
    "    index = data.index[id == data['id']].tolist()[0]\n",
    "    return [data.loc[index, 'artists'],data.loc[index, 'name'], data.loc[index, 'release_date']]\n",
    "\n",
    "for song in recommendations[:10]:\n",
    "    print(getRow(song))"
   ]
  }
 ],
 "metadata": {
  "kernelspec": {
   "display_name": "Python 3",
   "language": "python",
   "name": "python3"
  },
  "language_info": {
   "codemirror_mode": {
    "name": "ipython",
    "version": 3
   },
   "file_extension": ".py",
   "mimetype": "text/x-python",
   "name": "python",
   "nbconvert_exporter": "python",
   "pygments_lexer": "ipython3",
   "version": "3.11.4"
  }
 },
 "nbformat": 4,
 "nbformat_minor": 2
}
