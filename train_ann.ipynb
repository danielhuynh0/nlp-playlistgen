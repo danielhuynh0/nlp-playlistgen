{
  "nbformat": 4,
  "nbformat_minor": 0,
  "metadata": {
    "colab": {
      "provenance": [],
      "gpuType": "T4"
    },
    "kernelspec": {
      "name": "python3",
      "display_name": "Python 3"
    },
    "language_info": {
      "name": "python"
    },
    "accelerator": "GPU"
  },
  "cells": [
    {
      "cell_type": "code",
      "source": [
        "from google.colab import drive\n",
        "drive.mount('/content/drive')"
      ],
      "metadata": {
        "colab": {
          "base_uri": "https://localhost:8080/"
        },
        "id": "z9sSJqH6eN7F",
        "outputId": "51173527-96bd-4db5-afd3-2f69a0305252"
      },
      "execution_count": 1,
      "outputs": [
        {
          "output_type": "stream",
          "name": "stdout",
          "text": [
            "Mounted at /content/drive\n"
          ]
        }
      ]
    },
    {
      "cell_type": "code",
      "source": [
        "!pip install torch-geometric"
      ],
      "metadata": {
        "colab": {
          "base_uri": "https://localhost:8080/"
        },
        "id": "VCFqzZ1YeR_5",
        "outputId": "81428af2-52c6-4cc8-fdbb-19272651a778"
      },
      "execution_count": 2,
      "outputs": [
        {
          "output_type": "stream",
          "name": "stdout",
          "text": [
            "Collecting torch-geometric\n",
            "  Downloading torch_geometric-2.5.3-py3-none-any.whl (1.1 MB)\n",
            "\u001b[?25l     \u001b[90m━━━━━━━━━━━━━━━━━━━━━━━━━━━━━━━━━━━━━━━━\u001b[0m \u001b[32m0.0/1.1 MB\u001b[0m \u001b[31m?\u001b[0m eta \u001b[36m-:--:--\u001b[0m\r\u001b[2K     \u001b[91m━━\u001b[0m\u001b[90m╺\u001b[0m\u001b[90m━━━━━━━━━━━━━━━━━━━━━━━━━━━━━━━━━━━━━\u001b[0m \u001b[32m0.1/1.1 MB\u001b[0m \u001b[31m1.7 MB/s\u001b[0m eta \u001b[36m0:00:01\u001b[0m\r\u001b[2K     \u001b[91m━━━━━━━━━━━━━━━━━━━━━━━━━━━━━━━━━━━━━━━\u001b[0m\u001b[91m╸\u001b[0m \u001b[32m1.1/1.1 MB\u001b[0m \u001b[31m19.2 MB/s\u001b[0m eta \u001b[36m0:00:01\u001b[0m\r\u001b[2K     \u001b[90m━━━━━━━━━━━━━━━━━━━━━━━━━━━━━━━━━━━━━━━━\u001b[0m \u001b[32m1.1/1.1 MB\u001b[0m \u001b[31m14.8 MB/s\u001b[0m eta \u001b[36m0:00:00\u001b[0m\n",
            "\u001b[?25hRequirement already satisfied: tqdm in /usr/local/lib/python3.10/dist-packages (from torch-geometric) (4.66.2)\n",
            "Requirement already satisfied: numpy in /usr/local/lib/python3.10/dist-packages (from torch-geometric) (1.25.2)\n",
            "Requirement already satisfied: scipy in /usr/local/lib/python3.10/dist-packages (from torch-geometric) (1.11.4)\n",
            "Requirement already satisfied: fsspec in /usr/local/lib/python3.10/dist-packages (from torch-geometric) (2023.6.0)\n",
            "Requirement already satisfied: jinja2 in /usr/local/lib/python3.10/dist-packages (from torch-geometric) (3.1.3)\n",
            "Requirement already satisfied: aiohttp in /usr/local/lib/python3.10/dist-packages (from torch-geometric) (3.9.5)\n",
            "Requirement already satisfied: requests in /usr/local/lib/python3.10/dist-packages (from torch-geometric) (2.31.0)\n",
            "Requirement already satisfied: pyparsing in /usr/local/lib/python3.10/dist-packages (from torch-geometric) (3.1.2)\n",
            "Requirement already satisfied: scikit-learn in /usr/local/lib/python3.10/dist-packages (from torch-geometric) (1.2.2)\n",
            "Requirement already satisfied: psutil>=5.8.0 in /usr/local/lib/python3.10/dist-packages (from torch-geometric) (5.9.5)\n",
            "Requirement already satisfied: aiosignal>=1.1.2 in /usr/local/lib/python3.10/dist-packages (from aiohttp->torch-geometric) (1.3.1)\n",
            "Requirement already satisfied: attrs>=17.3.0 in /usr/local/lib/python3.10/dist-packages (from aiohttp->torch-geometric) (23.2.0)\n",
            "Requirement already satisfied: frozenlist>=1.1.1 in /usr/local/lib/python3.10/dist-packages (from aiohttp->torch-geometric) (1.4.1)\n",
            "Requirement already satisfied: multidict<7.0,>=4.5 in /usr/local/lib/python3.10/dist-packages (from aiohttp->torch-geometric) (6.0.5)\n",
            "Requirement already satisfied: yarl<2.0,>=1.0 in /usr/local/lib/python3.10/dist-packages (from aiohttp->torch-geometric) (1.9.4)\n",
            "Requirement already satisfied: async-timeout<5.0,>=4.0 in /usr/local/lib/python3.10/dist-packages (from aiohttp->torch-geometric) (4.0.3)\n",
            "Requirement already satisfied: MarkupSafe>=2.0 in /usr/local/lib/python3.10/dist-packages (from jinja2->torch-geometric) (2.1.5)\n",
            "Requirement already satisfied: charset-normalizer<4,>=2 in /usr/local/lib/python3.10/dist-packages (from requests->torch-geometric) (3.3.2)\n",
            "Requirement already satisfied: idna<4,>=2.5 in /usr/local/lib/python3.10/dist-packages (from requests->torch-geometric) (3.7)\n",
            "Requirement already satisfied: urllib3<3,>=1.21.1 in /usr/local/lib/python3.10/dist-packages (from requests->torch-geometric) (2.0.7)\n",
            "Requirement already satisfied: certifi>=2017.4.17 in /usr/local/lib/python3.10/dist-packages (from requests->torch-geometric) (2024.2.2)\n",
            "Requirement already satisfied: joblib>=1.1.1 in /usr/local/lib/python3.10/dist-packages (from scikit-learn->torch-geometric) (1.4.0)\n",
            "Requirement already satisfied: threadpoolctl>=2.0.0 in /usr/local/lib/python3.10/dist-packages (from scikit-learn->torch-geometric) (3.4.0)\n",
            "Installing collected packages: torch-geometric\n",
            "Successfully installed torch-geometric-2.5.3\n"
          ]
        }
      ]
    },
    {
      "cell_type": "code",
      "execution_count": 3,
      "metadata": {
        "colab": {
          "base_uri": "https://localhost:8080/"
        },
        "id": "cgef0rkPd1E9",
        "outputId": "71096622-2444-442d-c79c-50abf74dd55b"
      },
      "outputs": [
        {
          "output_type": "stream",
          "name": "stdout",
          "text": [
            "Epoch: 0, Loss: 0.7073466777801514\n",
            "Epoch: 10, Loss: 0.5183368921279907\n",
            "Epoch: 20, Loss: 0.382033109664917\n",
            "Epoch: 30, Loss: 0.3472760021686554\n",
            "Epoch: 40, Loss: 0.32771623134613037\n",
            "Epoch: 50, Loss: 0.31596291065216064\n",
            "Epoch: 60, Loss: 0.2997666001319885\n",
            "Epoch: 70, Loss: 0.2853260338306427\n",
            "Epoch: 80, Loss: 0.27942267060279846\n",
            "Epoch: 90, Loss: 0.27625009417533875\n"
          ]
        }
      ],
      "source": [
        "import torch\n",
        "import torch.nn as nn\n",
        "import torch.nn.functional as F\n",
        "import numpy as np\n",
        "import pandas as pd\n",
        "from sklearn.preprocessing import StandardScaler\n",
        "from torch_geometric.data import Data\n",
        "from torch_geometric.nn import GCNConv\n",
        "import json\n",
        "\n",
        "class Encoder(nn.Module):\n",
        "    def __init__(self):\n",
        "        super(Encoder, self).__init__()\n",
        "        self.conv1 = GCNConv(12, 16)\n",
        "        self.conv2 = GCNConv(16, 8)\n",
        "\n",
        "    def forward(self, x, edge_index):\n",
        "        x = F.relu(self.conv1(x, edge_index))\n",
        "        x = self.conv2(x, edge_index)\n",
        "        return x\n",
        "\n",
        "class Decoder(nn.Module):\n",
        "    def __init__(self):\n",
        "        super(Decoder, self).__init__()\n",
        "        self.conv1 = GCNConv(8, 16)\n",
        "        self.conv2 = GCNConv(16, 12)\n",
        "\n",
        "    def forward(self, x, edge_index):\n",
        "        x = F.relu(self.conv1(x, edge_index))\n",
        "        x = F.sigmoid(self.conv2(x, edge_index))\n",
        "        return x\n",
        "\n",
        "class Autoencoder(nn.Module):\n",
        "    def __init__(self):\n",
        "        super(Autoencoder, self).__init__()\n",
        "        self.encoder = Encoder()\n",
        "        self.decoder = Decoder()\n",
        "\n",
        "    def forward(self, data):\n",
        "        x, edge_index = data.x, data.edge_index\n",
        "        x = self.encoder(x, edge_index)\n",
        "        x = self.decoder(x, edge_index)\n",
        "        return x\n",
        "\n",
        "# Load data\n",
        "def get_data():\n",
        "\n",
        "    data_file = \"/content/drive/My Drive/data.csv\"\n",
        "    data = pd.read_csv(data_file)\n",
        "    return data\n",
        "\n",
        "# Prepare data for training and testing\n",
        "def get_XY(data, weights=None):\n",
        "    features = ['valence', 'key', 'tempo', 'acousticness', 'danceability',\n",
        "                'energy', 'explicit', 'instrumentalness', 'liveness',\n",
        "                'speechiness', 'loudness', 'year']\n",
        "    X = data[features]\n",
        "    Y = data['id'] if 'id' in data.columns else None\n",
        "\n",
        "    # Scale the features\n",
        "    scaler = StandardScaler()\n",
        "    X = scaler.fit_transform(X)\n",
        "\n",
        "    # Apply weights\n",
        "    if weights is not None:\n",
        "        for i, weight in enumerate(weights):\n",
        "            X[:, i] *= weight\n",
        "\n",
        "    return X, Y\n",
        "\n",
        "from sklearn.neighbors import NearestNeighbors\n",
        "\n",
        "def get_edge_index(X, k=5):\n",
        "    # Fit nearest neighbors\n",
        "    nbrs = NearestNeighbors(n_neighbors=k, algorithm='ball_tree').fit(X)\n",
        "    distances, indices = nbrs.kneighbors(X)\n",
        "\n",
        "    # Create edge index\n",
        "    edge_index = []\n",
        "    for i in range(indices.shape[0]):\n",
        "        for j in range(1, indices.shape[1]):  # Ignore the first neighbor because it's the node itself\n",
        "            edge_index.append([i, indices[i, j]])\n",
        "\n",
        "    return torch.tensor(edge_index, dtype=torch.long).t().contiguous()\n",
        "\n",
        "# Use it in your training function\n",
        "def train_autoencoder(data, weights, epochs=100):\n",
        "    model = Autoencoder()\n",
        "\n",
        "    X, _ = get_XY(data, weights)\n",
        "    X = torch.tensor(X, dtype=torch.float)\n",
        "    edge_index = get_edge_index(X.numpy())  # Convert tensor to numpy array for get_edge_index\n",
        "    optimizer = torch.optim.Adam(model.parameters(), lr=0.01)\n",
        "    criterion = nn.MSELoss()\n",
        "\n",
        "    for epoch in range(epochs):\n",
        "        model.train()\n",
        "        optimizer.zero_grad()\n",
        "\n",
        "        out = model(Data(x=X, edge_index=edge_index))\n",
        "        loss = criterion(out, X)  # Compare the output to the original input\n",
        "        loss.backward()\n",
        "        optimizer.step()\n",
        "\n",
        "        if epoch % 10 == 0:\n",
        "            print(f'Epoch: {epoch}, Loss: {loss.item()}')\n",
        "\n",
        "    # Save model\n",
        "    torch.save(model.state_dict(), 'autoencoder_model.pth')\n",
        "\n",
        "# Convert JSON embedding to compatible format\n",
        "def convert_json_to_embedding(json_embedding):\n",
        "    embedding_data = json.loads(json_embedding)\n",
        "    embedding = embedding_data[\"embedding\"]\n",
        "    weights = embedding_data[\"weights\"]\n",
        "    return embedding, weights\n",
        "\n",
        "# Example usage:\n",
        "json_embedding = '''\n",
        "{\n",
        "    \"embedding\": {\n",
        "        \"valence\": 0.9,\n",
        "        \"key\": 7,\n",
        "        \"tempo\": 120.0,\n",
        "        \"acousticness\": 0.2,\n",
        "        \"danceability\": 0.8,\n",
        "        \"energy\": 0.7,\n",
        "        \"explicit\": 0,\n",
        "        \"instrumentalness\": 0.1,\n",
        "        \"liveness\": 0.5,\n",
        "        \"speechiness\": 0.2,\n",
        "        \"loudness\": -10.0,\n",
        "        \"year\": 2020\n",
        "    },\n",
        "    \"weights\": [0.8, 0.3, 0.7, 0.6, 0.9, 0.8, 0.1, 0.4, 0.5, 0.4, 0.9, 1.0]\n",
        "}\n",
        "'''\n",
        "\n",
        "data = get_data()\n",
        "embedding, weights = convert_json_to_embedding(json_embedding)\n",
        "train_autoencoder(data, weights)"
      ]
    }
  ]
}